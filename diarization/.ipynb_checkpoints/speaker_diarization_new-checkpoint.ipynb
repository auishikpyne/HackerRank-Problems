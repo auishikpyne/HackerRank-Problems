{
 "cells": [
  {
   "cell_type": "code",
   "execution_count": null,
   "id": "18a38396",
   "metadata": {},
   "outputs": [
    {
     "name": "stdout",
     "output_type": "stream",
     "text": [
      "Cloning into 'Resemblyzer'...\n",
      "remote: Enumerating objects: 608, done.\u001b[K\n",
      "remote: Counting objects: 100% (6/6), done.\u001b[K\n",
      "remote: Compressing objects: 100% (5/5), done.\u001b[K\n",
      "Receiving objects:  44% (268/608), 35.55 MiB | 728.00 KiB/s \r"
     ]
    }
   ],
   "source": [
    "!git clone https://github.com/resemble-ai/Resemblyzer.git"
   ]
  },
  {
   "cell_type": "code",
   "execution_count": null,
   "id": "5e49cf32",
   "metadata": {},
   "outputs": [],
   "source": [
    "cd Resemblyzer/"
   ]
  },
  {
   "cell_type": "code",
   "execution_count": null,
   "id": "189360dd",
   "metadata": {},
   "outputs": [],
   "source": [
    "import wave\n",
    "import contextlib\n",
    "\n",
    "fname = '/home/auishik/Documents/multi speaker/10small.wav'\n",
    "\n",
    "with contextlib.closing(wave.open(fname,'r')) as f:\n",
    "    frames = f.getnframes()\n",
    "    rate = f.getframerate()\n",
    "    duration = frames / float(rate)\n",
    "    print(duration)"
   ]
  },
  {
   "cell_type": "code",
   "execution_count": null,
   "id": "3460805c",
   "metadata": {},
   "outputs": [],
   "source": [
    "import pathlib\n",
    "pathlib.Path().resolve()\n",
    "from resemblyzer import VoiceEncoder, preprocess_wav\n",
    "from pathlib import Path\n",
    "\n",
    "fpath = Path(\"/home/auishik/Documents/multi speaker/10small.wav\")\n",
    "wav = preprocess_wav(fpath)\n",
    "\n",
    "print(wav)\n"
   ]
  },
  {
   "cell_type": "code",
   "execution_count": null,
   "id": "05598ef6",
   "metadata": {},
   "outputs": [],
   "source": [
    "encoder = VoiceEncoder('cpu')\n",
    "_, cont_embeds, wav_splits = encoder.embed_utterance(wav, return_partials=True, rate=16)\n",
    "print(wav_splits)      "
   ]
  },
  {
   "cell_type": "code",
   "execution_count": null,
   "id": "a0103066",
   "metadata": {},
   "outputs": [],
   "source": [
    "from spectralcluster import SpectralClusterer\n",
    "from spectralcluster import AutoTune\n",
    "import math\n",
    "from sklearn.cluster import SpectralClustering\n",
    "\n",
    "#clusterer = SpectralClusterer(min_clusters = 3)\n",
    "# clusterer = SpectralClusterer(\n",
    "#     min_clusters=2,\n",
    "#     max_clusters=100,\n",
    "#     p_percentile=0.95,\n",
    "#     gaussian_blur_sigma=1)\n",
    "\n",
    "clusterer = SpectralClusterer(min_clusters = 3, max_clusters = 10, custom_dist = \"cosine\")\n",
    "\n",
    "#refinement_options = RefinementOptions(gaussian_blur_sigma=1,p_percentile=0.95,thresholding_soft_multiplier=0.01, thresholding_type=ThresholdType.RowMax,   refinement_sequence=ICASSP2018_REFINEMENT_SEQUENCE)\n",
    "#clusterer = SpectralClusterer(min_clusters=3, max_clusters=10, custom_dist=\"cosine\")\n",
    "print(clusterer)\n",
    "labels = clusterer.predict(cont_embeds)"
   ]
  },
  {
   "cell_type": "code",
   "execution_count": null,
   "id": "44d222fb",
   "metadata": {},
   "outputs": [],
   "source": [
    "help(SpectralClusterer)"
   ]
  },
  {
   "cell_type": "code",
   "execution_count": null,
   "id": "81da411b",
   "metadata": {},
   "outputs": [],
   "source": [
    "print(labels[:1000])"
   ]
  },
  {
   "cell_type": "code",
   "execution_count": null,
   "id": "c3e62369",
   "metadata": {},
   "outputs": [],
   "source": [
    "import json\n",
    "def create_labelling(labels, wav_splits):\n",
    "    from resemblyzer.audio import sampling_rate    \n",
    "    times = [((s.start + s.stop) / 2) / sampling_rate for s in wav_splits]\n",
    "    \n",
    "    labelling = []\n",
    "    start_time = 0\n",
    "\n",
    "    for i, time in enumerate(times):\n",
    "        \n",
    "        if i>0 and labels[i]!=labels[i-1]:\n",
    "            temp = {'id': str(labels[i-1]), 'start' : start_time, 'end' : time}\n",
    "            labelling.append((temp))\n",
    "            start_time = time\n",
    "        if i==len(times)-1:\n",
    "            temp = {'id': str(labels[i]),'start' : start_time, 'end' : time}\n",
    "            labelling.append((temp))\n",
    "\n",
    "    return (labelling) \n",
    "labelling = create_labelling(labels,wav_splits)"
   ]
  },
  {
   "cell_type": "code",
   "execution_count": null,
   "id": "2b9ad304",
   "metadata": {
    "scrolled": true
   },
   "outputs": [],
   "source": [
    "json.dumps(labelling)"
   ]
  },
  {
   "cell_type": "code",
   "execution_count": null,
   "id": "fe68632d",
   "metadata": {
    "scrolled": false
   },
   "outputs": [],
   "source": [
    "type(labelling)"
   ]
  },
  {
   "cell_type": "code",
   "execution_count": null,
   "id": "2a9ad37a",
   "metadata": {},
   "outputs": [],
   "source": []
  },
  {
   "cell_type": "code",
   "execution_count": null,
   "id": "5653d4da",
   "metadata": {},
   "outputs": [],
   "source": []
  },
  {
   "cell_type": "code",
   "execution_count": null,
   "id": "910913ec",
   "metadata": {},
   "outputs": [],
   "source": [
    "import ffmpeg\n",
    "import requests\n",
    "import json\n",
    "import warnings\n",
    "url = \"http://dev.revesoft.com:9382/\"\n",
    "\n",
    "payload={}\n",
    "\n",
    "for i in range(len(labelling)):\n",
    "\n",
    "    stream = ffmpeg.input('/home/auishik/Documents/multi speaker/3short.wav')\n",
    "    a1 = stream.audio.filter('atrim', labelling[i][1], labelling[i][2])\n",
    "    out = ffmpeg.output(a1, 'output.wav').overwrite_output()\n",
    "    out.run()\n",
    "\n",
    "    files=[('file',('output.wav',open('output.wav','rb'),'audio/wav'))]\n",
    "    headers = {}\n",
    "    #print(url)\n",
    "    response = requests.request(\"POST\", url, headers=headers, data=payload, files=files)\n",
    "    data = response.json()\n",
    "#print(data)\n",
    "    #print(\"speaker: \" + str(labelling[i][0])+\": \" + data['output'])\n",
    "    print(\"speaker: \"+ str(labelling[i][0])+\" start time :\"+str(labelling[i][1])+\" end time :\" + str(labelling[i][2])+\" text :\"+ data['output'])\n",
    "\n",
    "print(response.text)"
   ]
  },
  {
   "cell_type": "code",
   "execution_count": null,
   "id": "05c8b802",
   "metadata": {},
   "outputs": [],
   "source": [
    "print(type(stream))"
   ]
  },
  {
   "cell_type": "code",
   "execution_count": null,
   "id": "dcc283da",
   "metadata": {},
   "outputs": [],
   "source": [
    "ffmpeg "
   ]
  },
  {
   "cell_type": "code",
   "execution_count": null,
   "id": "a9e00ca5",
   "metadata": {},
   "outputs": [],
   "source": [
    "import numpy as np\n",
    "from resemblyzer import VoiceEncoder, preprocess_wav\n",
    "from pathlib import Path\n",
    "\n",
    "fpath = Path(\"/home/auishik/Documents/audio_checking_experiment/should be dual speaker/5069.wav\")\n",
    "wav = preprocess_wav(fpath)\n",
    "\n",
    "encoder = VoiceEncoder()\n",
    "embed = encoder.embed_utterance(wav)\n",
    "np.set_printoptions(precision=3, suppress=True)\n",
    "print(embed)"
   ]
  },
  {
   "cell_type": "code",
   "execution_count": null,
   "id": "546b6225",
   "metadata": {},
   "outputs": [],
   "source": [
    "help(preprocess_wav)"
   ]
  },
  {
   "cell_type": "code",
   "execution_count": null,
   "id": "6c4d8398",
   "metadata": {},
   "outputs": [],
   "source": []
  }
 ],
 "metadata": {
  "kernelspec": {
   "display_name": "Python 3 (ipykernel)",
   "language": "python",
   "name": "python3"
  },
  "language_info": {
   "codemirror_mode": {
    "name": "ipython",
    "version": 3
   },
   "file_extension": ".py",
   "mimetype": "text/x-python",
   "name": "python",
   "nbconvert_exporter": "python",
   "pygments_lexer": "ipython3",
   "version": "3.10.4"
  }
 },
 "nbformat": 4,
 "nbformat_minor": 5
}
