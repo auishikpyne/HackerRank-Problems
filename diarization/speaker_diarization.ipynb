{
 "cells": [
  {
   "cell_type": "code",
   "execution_count": 1,
   "metadata": {
    "colab": {
     "base_uri": "https://localhost:8080/"
    },
    "id": "vnUf_eXdxQ3v",
    "outputId": "e2d23611-330c-47e6-d8ef-b25e7e300776"
   },
   "outputs": [
    {
     "name": "stdout",
     "output_type": "stream",
     "text": [
      "fatal: destination path 'Resemblyzer' already exists and is not an empty directory.\r\n"
     ]
    }
   ],
   "source": [
    "!git clone https://github.com/resemble-ai/Resemblyzer.git"
   ]
  },
  {
   "cell_type": "code",
   "execution_count": 2,
   "metadata": {
    "colab": {
     "base_uri": "https://localhost:8080/"
    },
    "id": "KhnVRff_xdlJ",
    "outputId": "b4ea5a39-ca36-495a-80cd-6c5f6ca06aa2"
   },
   "outputs": [
    {
     "name": "stdout",
     "output_type": "stream",
     "text": [
      "/home/auishik/Documents/Resemblyzer\n"
     ]
    }
   ],
   "source": [
    "cd Resemblyzer/"
   ]
  },
  {
   "cell_type": "code",
   "execution_count": 3,
   "metadata": {
    "colab": {
     "base_uri": "https://localhost:8080/"
    },
    "id": "hjk1n-5ZEFd2",
    "outputId": "e1ad16ef-e0e8-4440-88a7-47d9e3ffeaa3"
   },
   "outputs": [
    {
     "name": "stdout",
     "output_type": "stream",
     "text": [
      "Defaulting to user installation because normal site-packages is not writeable\n",
      "Requirement already satisfied: webrtcvad in /home/auishik/.local/lib/python3.10/site-packages (2.0.10)\n",
      "Defaulting to user installation because normal site-packages is not writeable\n",
      "Requirement already satisfied: spectralcluster in /home/auishik/.local/lib/python3.10/site-packages (0.2.12)\n",
      "Defaulting to user installation because normal site-packages is not writeable\n",
      "Requirement already satisfied: ffmpeg-python in /home/auishik/.local/lib/python3.10/site-packages (0.2.0)\n",
      "Requirement already satisfied: future in /usr/lib/python3/dist-packages (from ffmpeg-python) (0.18.2)\n"
     ]
    }
   ],
   "source": [
    "!pip install webrtcvad\n",
    "!pip install spectralcluster\n",
    "!pip install ffmpeg-python"
   ]
  },
  {
   "cell_type": "code",
   "execution_count": 4,
   "metadata": {
    "colab": {
     "base_uri": "https://localhost:8080/"
    },
    "id": "-e6-eOcLs0nT",
    "outputId": "0857edf6-28bc-425f-df20-28bbfd10e4dc"
   },
   "outputs": [
    {
     "name": "stdout",
     "output_type": "stream",
     "text": [
      "72.8558125\n"
     ]
    }
   ],
   "source": [
    "import wave\n",
    "import contextlib\n",
    "fname = '/home/auishik/Documents/multi speaker/10small.wav'\n",
    "with contextlib.closing(wave.open(fname,'r')) as f:\n",
    "    frames = f.getnframes()\n",
    "    rate = f.getframerate()\n",
    "    duration = frames / float(rate)\n",
    "    print(duration)"
   ]
  },
  {
   "cell_type": "code",
   "execution_count": 5,
   "metadata": {
    "id": "zS4uMx1fs7PQ"
   },
   "outputs": [
    {
     "ename": "ModuleNotFoundError",
     "evalue": "No module named 'google.colab'",
     "output_type": "error",
     "traceback": [
      "\u001b[0;31m---------------------------------------------------------------------------\u001b[0m",
      "\u001b[0;31mModuleNotFoundError\u001b[0m                       Traceback (most recent call last)",
      "\u001b[0;32m/tmp/ipykernel_29177/1408506528.py\u001b[0m in \u001b[0;36m<module>\u001b[0;34m\u001b[0m\n\u001b[0;32m----> 1\u001b[0;31m \u001b[0;32mfrom\u001b[0m \u001b[0mgoogle\u001b[0m\u001b[0;34m.\u001b[0m\u001b[0mcolab\u001b[0m \u001b[0;32mimport\u001b[0m \u001b[0mdrive\u001b[0m\u001b[0;34m\u001b[0m\u001b[0;34m\u001b[0m\u001b[0m\n\u001b[0m\u001b[1;32m      2\u001b[0m \u001b[0mdrive\u001b[0m\u001b[0;34m.\u001b[0m\u001b[0mmount\u001b[0m\u001b[0;34m(\u001b[0m\u001b[0;34m'/content/drive'\u001b[0m\u001b[0;34m)\u001b[0m\u001b[0;34m\u001b[0m\u001b[0;34m\u001b[0m\u001b[0m\n",
      "\u001b[0;31mModuleNotFoundError\u001b[0m: No module named 'google.colab'"
     ]
    }
   ],
   "source": [
    "from google.colab import drive\n",
    "drive.mount('/content/drive')"
   ]
  },
  {
   "cell_type": "markdown",
   "metadata": {
    "id": "P8VgGr1usWoy"
   },
   "source": [
    "# New section"
   ]
  },
  {
   "cell_type": "code",
   "execution_count": 6,
   "metadata": {
    "colab": {
     "base_uri": "https://localhost:8080/"
    },
    "id": "qMWkbMPTxhQY",
    "outputId": "382a8128-a3b1-4d90-9500-7bbd5be0b9b2"
   },
   "outputs": [
    {
     "name": "stdout",
     "output_type": "stream",
     "text": [
      "[ 0.12979917  0.12680721 -0.03155239 ... -0.02735927 -0.00110909\n",
      " -0.00541648]\n",
      "Loaded the voice encoder model on cpu in 0.01 seconds.\n",
      "[slice(0, 25600, None), slice(960, 26560, None), slice(1920, 27520, None), slice(2880, 28480, None), slice(3840, 29440, None), slice(4800, 30400, None), slice(5760, 31360, None), slice(6720, 32320, None), slice(7680, 33280, None), slice(8640, 34240, None), slice(9600, 35200, None), slice(10560, 36160, None), slice(11520, 37120, None), slice(12480, 38080, None), slice(13440, 39040, None), slice(14400, 40000, None), slice(15360, 40960, None), slice(16320, 41920, None), slice(17280, 42880, None), slice(18240, 43840, None), slice(19200, 44800, None), slice(20160, 45760, None), slice(21120, 46720, None), slice(22080, 47680, None), slice(23040, 48640, None), slice(24000, 49600, None), slice(24960, 50560, None), slice(25920, 51520, None), slice(26880, 52480, None), slice(27840, 53440, None), slice(28800, 54400, None), slice(29760, 55360, None), slice(30720, 56320, None), slice(31680, 57280, None), slice(32640, 58240, None), slice(33600, 59200, None), slice(34560, 60160, None), slice(35520, 61120, None), slice(36480, 62080, None), slice(37440, 63040, None), slice(38400, 64000, None), slice(39360, 64960, None), slice(40320, 65920, None), slice(41280, 66880, None), slice(42240, 67840, None), slice(43200, 68800, None), slice(44160, 69760, None), slice(45120, 70720, None), slice(46080, 71680, None), slice(47040, 72640, None), slice(48000, 73600, None), slice(48960, 74560, None), slice(49920, 75520, None), slice(50880, 76480, None), slice(51840, 77440, None), slice(52800, 78400, None), slice(53760, 79360, None), slice(54720, 80320, None), slice(55680, 81280, None), slice(56640, 82240, None), slice(57600, 83200, None), slice(58560, 84160, None), slice(59520, 85120, None), slice(60480, 86080, None), slice(61440, 87040, None), slice(62400, 88000, None), slice(63360, 88960, None), slice(64320, 89920, None), slice(65280, 90880, None), slice(66240, 91840, None), slice(67200, 92800, None), slice(68160, 93760, None), slice(69120, 94720, None), slice(70080, 95680, None), slice(71040, 96640, None), slice(72000, 97600, None), slice(72960, 98560, None), slice(73920, 99520, None), slice(74880, 100480, None), slice(75840, 101440, None), slice(76800, 102400, None), slice(77760, 103360, None), slice(78720, 104320, None), slice(79680, 105280, None), slice(80640, 106240, None), slice(81600, 107200, None), slice(82560, 108160, None), slice(83520, 109120, None), slice(84480, 110080, None), slice(85440, 111040, None), slice(86400, 112000, None), slice(87360, 112960, None), slice(88320, 113920, None), slice(89280, 114880, None), slice(90240, 115840, None), slice(91200, 116800, None), slice(92160, 117760, None), slice(93120, 118720, None), slice(94080, 119680, None), slice(95040, 120640, None), slice(96000, 121600, None), slice(96960, 122560, None), slice(97920, 123520, None), slice(98880, 124480, None), slice(99840, 125440, None), slice(100800, 126400, None), slice(101760, 127360, None), slice(102720, 128320, None), slice(103680, 129280, None), slice(104640, 130240, None), slice(105600, 131200, None), slice(106560, 132160, None), slice(107520, 133120, None), slice(108480, 134080, None), slice(109440, 135040, None), slice(110400, 136000, None), slice(111360, 136960, None), slice(112320, 137920, None), slice(113280, 138880, None), slice(114240, 139840, None), slice(115200, 140800, None), slice(116160, 141760, None), slice(117120, 142720, None), slice(118080, 143680, None), slice(119040, 144640, None), slice(120000, 145600, None), slice(120960, 146560, None), slice(121920, 147520, None), slice(122880, 148480, None), slice(123840, 149440, None), slice(124800, 150400, None), slice(125760, 151360, None), slice(126720, 152320, None), slice(127680, 153280, None), slice(128640, 154240, None), slice(129600, 155200, None), slice(130560, 156160, None), slice(131520, 157120, None), slice(132480, 158080, None), slice(133440, 159040, None), slice(134400, 160000, None), slice(135360, 160960, None), slice(136320, 161920, None), slice(137280, 162880, None), slice(138240, 163840, None), slice(139200, 164800, None), slice(140160, 165760, None), slice(141120, 166720, None), slice(142080, 167680, None), slice(143040, 168640, None), slice(144000, 169600, None), slice(144960, 170560, None), slice(145920, 171520, None), slice(146880, 172480, None), slice(147840, 173440, None), slice(148800, 174400, None), slice(149760, 175360, None), slice(150720, 176320, None), slice(151680, 177280, None), slice(152640, 178240, None), slice(153600, 179200, None), slice(154560, 180160, None), slice(155520, 181120, None), slice(156480, 182080, None), slice(157440, 183040, None), slice(158400, 184000, None), slice(159360, 184960, None), slice(160320, 185920, None), slice(161280, 186880, None), slice(162240, 187840, None), slice(163200, 188800, None), slice(164160, 189760, None), slice(165120, 190720, None), slice(166080, 191680, None), slice(167040, 192640, None), slice(168000, 193600, None), slice(168960, 194560, None), slice(169920, 195520, None), slice(170880, 196480, None), slice(171840, 197440, None), slice(172800, 198400, None), slice(173760, 199360, None), slice(174720, 200320, None), slice(175680, 201280, None), slice(176640, 202240, None), slice(177600, 203200, None), slice(178560, 204160, None), slice(179520, 205120, None), slice(180480, 206080, None), slice(181440, 207040, None), slice(182400, 208000, None), slice(183360, 208960, None), slice(184320, 209920, None), slice(185280, 210880, None), slice(186240, 211840, None), slice(187200, 212800, None), slice(188160, 213760, None), slice(189120, 214720, None), slice(190080, 215680, None), slice(191040, 216640, None), slice(192000, 217600, None), slice(192960, 218560, None), slice(193920, 219520, None), slice(194880, 220480, None), slice(195840, 221440, None), slice(196800, 222400, None), slice(197760, 223360, None), slice(198720, 224320, None), slice(199680, 225280, None), slice(200640, 226240, None), slice(201600, 227200, None), slice(202560, 228160, None), slice(203520, 229120, None), slice(204480, 230080, None), slice(205440, 231040, None), slice(206400, 232000, None), slice(207360, 232960, None), slice(208320, 233920, None), slice(209280, 234880, None), slice(210240, 235840, None), slice(211200, 236800, None), slice(212160, 237760, None), slice(213120, 238720, None), slice(214080, 239680, None), slice(215040, 240640, None), slice(216000, 241600, None), slice(216960, 242560, None), slice(217920, 243520, None), slice(218880, 244480, None), slice(219840, 245440, None), slice(220800, 246400, None), slice(221760, 247360, None), slice(222720, 248320, None), slice(223680, 249280, None), slice(224640, 250240, None), slice(225600, 251200, None), slice(226560, 252160, None), slice(227520, 253120, None), slice(228480, 254080, None), slice(229440, 255040, None), slice(230400, 256000, None), slice(231360, 256960, None), slice(232320, 257920, None), slice(233280, 258880, None), slice(234240, 259840, None), slice(235200, 260800, None), slice(236160, 261760, None), slice(237120, 262720, None), slice(238080, 263680, None), slice(239040, 264640, None), slice(240000, 265600, None), slice(240960, 266560, None), slice(241920, 267520, None), slice(242880, 268480, None), slice(243840, 269440, None), slice(244800, 270400, None), slice(245760, 271360, None), slice(246720, 272320, None), slice(247680, 273280, None), slice(248640, 274240, None), slice(249600, 275200, None), slice(250560, 276160, None), slice(251520, 277120, None), slice(252480, 278080, None), slice(253440, 279040, None), slice(254400, 280000, None), slice(255360, 280960, None), slice(256320, 281920, None), slice(257280, 282880, None), slice(258240, 283840, None), slice(259200, 284800, None), slice(260160, 285760, None), slice(261120, 286720, None), slice(262080, 287680, None), slice(263040, 288640, None), slice(264000, 289600, None), slice(264960, 290560, None), slice(265920, 291520, None), slice(266880, 292480, None), slice(267840, 293440, None), slice(268800, 294400, None), slice(269760, 295360, None), slice(270720, 296320, None), slice(271680, 297280, None), slice(272640, 298240, None), slice(273600, 299200, None), slice(274560, 300160, None), slice(275520, 301120, None), slice(276480, 302080, None), slice(277440, 303040, None), slice(278400, 304000, None), slice(279360, 304960, None), slice(280320, 305920, None), slice(281280, 306880, None), slice(282240, 307840, None), slice(283200, 308800, None), slice(284160, 309760, None), slice(285120, 310720, None), slice(286080, 311680, None), slice(287040, 312640, None), slice(288000, 313600, None), slice(288960, 314560, None), slice(289920, 315520, None), slice(290880, 316480, None), slice(291840, 317440, None), slice(292800, 318400, None), slice(293760, 319360, None), slice(294720, 320320, None), slice(295680, 321280, None), slice(296640, 322240, None), slice(297600, 323200, None), slice(298560, 324160, None), slice(299520, 325120, None), slice(300480, 326080, None), slice(301440, 327040, None), slice(302400, 328000, None), slice(303360, 328960, None), slice(304320, 329920, None), slice(305280, 330880, None), slice(306240, 331840, None), slice(307200, 332800, None), slice(308160, 333760, None), slice(309120, 334720, None), slice(310080, 335680, None), slice(311040, 336640, None), slice(312000, 337600, None), slice(312960, 338560, None), slice(313920, 339520, None), slice(314880, 340480, None), slice(315840, 341440, None), slice(316800, 342400, None), slice(317760, 343360, None), slice(318720, 344320, None), slice(319680, 345280, None), slice(320640, 346240, None), slice(321600, 347200, None), slice(322560, 348160, None), slice(323520, 349120, None), slice(324480, 350080, None), slice(325440, 351040, None), slice(326400, 352000, None), slice(327360, 352960, None), slice(328320, 353920, None), slice(329280, 354880, None), slice(330240, 355840, None), slice(331200, 356800, None), slice(332160, 357760, None), slice(333120, 358720, None), slice(334080, 359680, None), slice(335040, 360640, None), slice(336000, 361600, None), slice(336960, 362560, None), slice(337920, 363520, None), slice(338880, 364480, None), slice(339840, 365440, None), slice(340800, 366400, None), slice(341760, 367360, None), slice(342720, 368320, None), slice(343680, 369280, None), slice(344640, 370240, None), slice(345600, 371200, None), slice(346560, 372160, None), slice(347520, 373120, None), slice(348480, 374080, None), slice(349440, 375040, None), slice(350400, 376000, None), slice(351360, 376960, None), slice(352320, 377920, None), slice(353280, 378880, None), slice(354240, 379840, None), slice(355200, 380800, None), slice(356160, 381760, None), slice(357120, 382720, None), slice(358080, 383680, None), slice(359040, 384640, None), slice(360000, 385600, None), slice(360960, 386560, None), slice(361920, 387520, None), slice(362880, 388480, None), slice(363840, 389440, None), slice(364800, 390400, None), slice(365760, 391360, None), slice(366720, 392320, None), slice(367680, 393280, None), slice(368640, 394240, None), slice(369600, 395200, None), slice(370560, 396160, None), slice(371520, 397120, None), slice(372480, 398080, None), slice(373440, 399040, None), slice(374400, 400000, None), slice(375360, 400960, None), slice(376320, 401920, None), slice(377280, 402880, None), slice(378240, 403840, None), slice(379200, 404800, None), slice(380160, 405760, None), slice(381120, 406720, None), slice(382080, 407680, None), slice(383040, 408640, None), slice(384000, 409600, None), slice(384960, 410560, None), slice(385920, 411520, None), slice(386880, 412480, None), slice(387840, 413440, None), slice(388800, 414400, None), slice(389760, 415360, None), slice(390720, 416320, None), slice(391680, 417280, None), slice(392640, 418240, None), slice(393600, 419200, None), slice(394560, 420160, None), slice(395520, 421120, None), slice(396480, 422080, None), slice(397440, 423040, None), slice(398400, 424000, None), slice(399360, 424960, None), slice(400320, 425920, None), slice(401280, 426880, None), slice(402240, 427840, None), slice(403200, 428800, None), slice(404160, 429760, None), slice(405120, 430720, None), slice(406080, 431680, None), slice(407040, 432640, None), slice(408000, 433600, None), slice(408960, 434560, None), slice(409920, 435520, None), slice(410880, 436480, None), slice(411840, 437440, None), slice(412800, 438400, None), slice(413760, 439360, None), slice(414720, 440320, None), slice(415680, 441280, None), slice(416640, 442240, None), slice(417600, 443200, None), slice(418560, 444160, None), slice(419520, 445120, None), slice(420480, 446080, None), slice(421440, 447040, None), slice(422400, 448000, None), slice(423360, 448960, None), slice(424320, 449920, None), slice(425280, 450880, None), slice(426240, 451840, None), slice(427200, 452800, None), slice(428160, 453760, None), slice(429120, 454720, None), slice(430080, 455680, None), slice(431040, 456640, None), slice(432000, 457600, None), slice(432960, 458560, None), slice(433920, 459520, None), slice(434880, 460480, None), slice(435840, 461440, None), slice(436800, 462400, None), slice(437760, 463360, None), slice(438720, 464320, None), slice(439680, 465280, None), slice(440640, 466240, None), slice(441600, 467200, None), slice(442560, 468160, None), slice(443520, 469120, None), slice(444480, 470080, None), slice(445440, 471040, None), slice(446400, 472000, None), slice(447360, 472960, None), slice(448320, 473920, None), slice(449280, 474880, None), slice(450240, 475840, None), slice(451200, 476800, None), slice(452160, 477760, None), slice(453120, 478720, None), slice(454080, 479680, None), slice(455040, 480640, None), slice(456000, 481600, None), slice(456960, 482560, None), slice(457920, 483520, None), slice(458880, 484480, None), slice(459840, 485440, None), slice(460800, 486400, None), slice(461760, 487360, None), slice(462720, 488320, None), slice(463680, 489280, None), slice(464640, 490240, None), slice(465600, 491200, None), slice(466560, 492160, None), slice(467520, 493120, None), slice(468480, 494080, None), slice(469440, 495040, None), slice(470400, 496000, None), slice(471360, 496960, None), slice(472320, 497920, None), slice(473280, 498880, None), slice(474240, 499840, None), slice(475200, 500800, None), slice(476160, 501760, None), slice(477120, 502720, None), slice(478080, 503680, None), slice(479040, 504640, None), slice(480000, 505600, None), slice(480960, 506560, None), slice(481920, 507520, None), slice(482880, 508480, None), slice(483840, 509440, None), slice(484800, 510400, None), slice(485760, 511360, None), slice(486720, 512320, None), slice(487680, 513280, None), slice(488640, 514240, None), slice(489600, 515200, None), slice(490560, 516160, None), slice(491520, 517120, None), slice(492480, 518080, None), slice(493440, 519040, None), slice(494400, 520000, None), slice(495360, 520960, None), slice(496320, 521920, None), slice(497280, 522880, None), slice(498240, 523840, None), slice(499200, 524800, None), slice(500160, 525760, None), slice(501120, 526720, None), slice(502080, 527680, None), slice(503040, 528640, None), slice(504000, 529600, None), slice(504960, 530560, None), slice(505920, 531520, None), slice(506880, 532480, None), slice(507840, 533440, None), slice(508800, 534400, None), slice(509760, 535360, None), slice(510720, 536320, None), slice(511680, 537280, None), slice(512640, 538240, None), slice(513600, 539200, None), slice(514560, 540160, None), slice(515520, 541120, None), slice(516480, 542080, None), slice(517440, 543040, None), slice(518400, 544000, None), slice(519360, 544960, None), slice(520320, 545920, None), slice(521280, 546880, None), slice(522240, 547840, None), slice(523200, 548800, None), slice(524160, 549760, None), slice(525120, 550720, None), slice(526080, 551680, None), slice(527040, 552640, None), slice(528000, 553600, None), slice(528960, 554560, None), slice(529920, 555520, None), slice(530880, 556480, None), slice(531840, 557440, None), slice(532800, 558400, None), slice(533760, 559360, None), slice(534720, 560320, None), slice(535680, 561280, None), slice(536640, 562240, None), slice(537600, 563200, None), slice(538560, 564160, None), slice(539520, 565120, None), slice(540480, 566080, None), slice(541440, 567040, None), slice(542400, 568000, None), slice(543360, 568960, None), slice(544320, 569920, None), slice(545280, 570880, None), slice(546240, 571840, None), slice(547200, 572800, None), slice(548160, 573760, None), slice(549120, 574720, None), slice(550080, 575680, None), slice(551040, 576640, None), slice(552000, 577600, None), slice(552960, 578560, None), slice(553920, 579520, None), slice(554880, 580480, None), slice(555840, 581440, None), slice(556800, 582400, None), slice(557760, 583360, None), slice(558720, 584320, None), slice(559680, 585280, None), slice(560640, 586240, None), slice(561600, 587200, None), slice(562560, 588160, None), slice(563520, 589120, None), slice(564480, 590080, None), slice(565440, 591040, None), slice(566400, 592000, None), slice(567360, 592960, None), slice(568320, 593920, None), slice(569280, 594880, None), slice(570240, 595840, None), slice(571200, 596800, None), slice(572160, 597760, None), slice(573120, 598720, None), slice(574080, 599680, None), slice(575040, 600640, None), slice(576000, 601600, None), slice(576960, 602560, None), slice(577920, 603520, None), slice(578880, 604480, None), slice(579840, 605440, None), slice(580800, 606400, None), slice(581760, 607360, None), slice(582720, 608320, None), slice(583680, 609280, None), slice(584640, 610240, None), slice(585600, 611200, None), slice(586560, 612160, None), slice(587520, 613120, None), slice(588480, 614080, None), slice(589440, 615040, None), slice(590400, 616000, None), slice(591360, 616960, None), slice(592320, 617920, None), slice(593280, 618880, None), slice(594240, 619840, None), slice(595200, 620800, None), slice(596160, 621760, None), slice(597120, 622720, None), slice(598080, 623680, None), slice(599040, 624640, None), slice(600000, 625600, None), slice(600960, 626560, None), slice(601920, 627520, None), slice(602880, 628480, None), slice(603840, 629440, None), slice(604800, 630400, None), slice(605760, 631360, None), slice(606720, 632320, None), slice(607680, 633280, None), slice(608640, 634240, None), slice(609600, 635200, None), slice(610560, 636160, None), slice(611520, 637120, None), slice(612480, 638080, None), slice(613440, 639040, None), slice(614400, 640000, None), slice(615360, 640960, None), slice(616320, 641920, None), slice(617280, 642880, None), slice(618240, 643840, None), slice(619200, 644800, None), slice(620160, 645760, None), slice(621120, 646720, None), slice(622080, 647680, None), slice(623040, 648640, None), slice(624000, 649600, None), slice(624960, 650560, None), slice(625920, 651520, None), slice(626880, 652480, None), slice(627840, 653440, None), slice(628800, 654400, None), slice(629760, 655360, None), slice(630720, 656320, None), slice(631680, 657280, None), slice(632640, 658240, None), slice(633600, 659200, None), slice(634560, 660160, None), slice(635520, 661120, None), slice(636480, 662080, None), slice(637440, 663040, None), slice(638400, 664000, None), slice(639360, 664960, None), slice(640320, 665920, None), slice(641280, 666880, None), slice(642240, 667840, None), slice(643200, 668800, None), slice(644160, 669760, None), slice(645120, 670720, None), slice(646080, 671680, None), slice(647040, 672640, None), slice(648000, 673600, None), slice(648960, 674560, None), slice(649920, 675520, None), slice(650880, 676480, None), slice(651840, 677440, None), slice(652800, 678400, None), slice(653760, 679360, None), slice(654720, 680320, None), slice(655680, 681280, None), slice(656640, 682240, None), slice(657600, 683200, None), slice(658560, 684160, None), slice(659520, 685120, None), slice(660480, 686080, None), slice(661440, 687040, None), slice(662400, 688000, None), slice(663360, 688960, None), slice(664320, 689920, None), slice(665280, 690880, None), slice(666240, 691840, None), slice(667200, 692800, None), slice(668160, 693760, None), slice(669120, 694720, None), slice(670080, 695680, None), slice(671040, 696640, None), slice(672000, 697600, None), slice(672960, 698560, None), slice(673920, 699520, None), slice(674880, 700480, None), slice(675840, 701440, None), slice(676800, 702400, None), slice(677760, 703360, None), slice(678720, 704320, None), slice(679680, 705280, None), slice(680640, 706240, None), slice(681600, 707200, None), slice(682560, 708160, None), slice(683520, 709120, None), slice(684480, 710080, None), slice(685440, 711040, None), slice(686400, 712000, None), slice(687360, 712960, None), slice(688320, 713920, None), slice(689280, 714880, None), slice(690240, 715840, None), slice(691200, 716800, None), slice(692160, 717760, None), slice(693120, 718720, None), slice(694080, 719680, None), slice(695040, 720640, None), slice(696000, 721600, None), slice(696960, 722560, None), slice(697920, 723520, None), slice(698880, 724480, None), slice(699840, 725440, None), slice(700800, 726400, None), slice(701760, 727360, None), slice(702720, 728320, None), slice(703680, 729280, None), slice(704640, 730240, None), slice(705600, 731200, None), slice(706560, 732160, None), slice(707520, 733120, None), slice(708480, 734080, None), slice(709440, 735040, None), slice(710400, 736000, None), slice(711360, 736960, None), slice(712320, 737920, None), slice(713280, 738880, None), slice(714240, 739840, None), slice(715200, 740800, None), slice(716160, 741760, None), slice(717120, 742720, None), slice(718080, 743680, None), slice(719040, 744640, None), slice(720000, 745600, None), slice(720960, 746560, None), slice(721920, 747520, None), slice(722880, 748480, None), slice(723840, 749440, None), slice(724800, 750400, None), slice(725760, 751360, None), slice(726720, 752320, None), slice(727680, 753280, None), slice(728640, 754240, None), slice(729600, 755200, None), slice(730560, 756160, None), slice(731520, 757120, None), slice(732480, 758080, None), slice(733440, 759040, None), slice(734400, 760000, None), slice(735360, 760960, None), slice(736320, 761920, None), slice(737280, 762880, None), slice(738240, 763840, None), slice(739200, 764800, None), slice(740160, 765760, None), slice(741120, 766720, None), slice(742080, 767680, None), slice(743040, 768640, None), slice(744000, 769600, None), slice(744960, 770560, None), slice(745920, 771520, None), slice(746880, 772480, None), slice(747840, 773440, None), slice(748800, 774400, None), slice(749760, 775360, None), slice(750720, 776320, None), slice(751680, 777280, None), slice(752640, 778240, None), slice(753600, 779200, None), slice(754560, 780160, None), slice(755520, 781120, None), slice(756480, 782080, None), slice(757440, 783040, None), slice(758400, 784000, None), slice(759360, 784960, None), slice(760320, 785920, None), slice(761280, 786880, None), slice(762240, 787840, None), slice(763200, 788800, None), slice(764160, 789760, None), slice(765120, 790720, None), slice(766080, 791680, None), slice(767040, 792640, None), slice(768000, 793600, None), slice(768960, 794560, None), slice(769920, 795520, None), slice(770880, 796480, None), slice(771840, 797440, None), slice(772800, 798400, None), slice(773760, 799360, None), slice(774720, 800320, None), slice(775680, 801280, None), slice(776640, 802240, None), slice(777600, 803200, None), slice(778560, 804160, None), slice(779520, 805120, None), slice(780480, 806080, None), slice(781440, 807040, None), slice(782400, 808000, None), slice(783360, 808960, None), slice(784320, 809920, None), slice(785280, 810880, None), slice(786240, 811840, None), slice(787200, 812800, None), slice(788160, 813760, None), slice(789120, 814720, None), slice(790080, 815680, None), slice(791040, 816640, None), slice(792000, 817600, None), slice(792960, 818560, None), slice(793920, 819520, None), slice(794880, 820480, None), slice(795840, 821440, None), slice(796800, 822400, None), slice(797760, 823360, None), slice(798720, 824320, None), slice(799680, 825280, None), slice(800640, 826240, None), slice(801600, 827200, None), slice(802560, 828160, None), slice(803520, 829120, None), slice(804480, 830080, None), slice(805440, 831040, None), slice(806400, 832000, None), slice(807360, 832960, None), slice(808320, 833920, None), slice(809280, 834880, None), slice(810240, 835840, None), slice(811200, 836800, None), slice(812160, 837760, None), slice(813120, 838720, None), slice(814080, 839680, None), slice(815040, 840640, None), slice(816000, 841600, None), slice(816960, 842560, None), slice(817920, 843520, None), slice(818880, 844480, None), slice(819840, 845440, None), slice(820800, 846400, None), slice(821760, 847360, None), slice(822720, 848320, None), slice(823680, 849280, None), slice(824640, 850240, None), slice(825600, 851200, None), slice(826560, 852160, None), slice(827520, 853120, None), slice(828480, 854080, None), slice(829440, 855040, None), slice(830400, 856000, None), slice(831360, 856960, None), slice(832320, 857920, None), slice(833280, 858880, None), slice(834240, 859840, None), slice(835200, 860800, None), slice(836160, 861760, None), slice(837120, 862720, None), slice(838080, 863680, None), slice(839040, 864640, None), slice(840000, 865600, None), slice(840960, 866560, None), slice(841920, 867520, None), slice(842880, 868480, None), slice(843840, 869440, None), slice(844800, 870400, None), slice(845760, 871360, None), slice(846720, 872320, None), slice(847680, 873280, None), slice(848640, 874240, None), slice(849600, 875200, None), slice(850560, 876160, None), slice(851520, 877120, None), slice(852480, 878080, None), slice(853440, 879040, None), slice(854400, 880000, None), slice(855360, 880960, None), slice(856320, 881920, None), slice(857280, 882880, None), slice(858240, 883840, None), slice(859200, 884800, None), slice(860160, 885760, None), slice(861120, 886720, None), slice(862080, 887680, None), slice(863040, 888640, None), slice(864000, 889600, None), slice(864960, 890560, None), slice(865920, 891520, None), slice(866880, 892480, None), slice(867840, 893440, None), slice(868800, 894400, None), slice(869760, 895360, None), slice(870720, 896320, None), slice(871680, 897280, None), slice(872640, 898240, None), slice(873600, 899200, None), slice(874560, 900160, None), slice(875520, 901120, None), slice(876480, 902080, None), slice(877440, 903040, None), slice(878400, 904000, None), slice(879360, 904960, None), slice(880320, 905920, None), slice(881280, 906880, None), slice(882240, 907840, None), slice(883200, 908800, None), slice(884160, 909760, None), slice(885120, 910720, None), slice(886080, 911680, None), slice(887040, 912640, None), slice(888000, 913600, None), slice(888960, 914560, None), slice(889920, 915520, None), slice(890880, 916480, None), slice(891840, 917440, None), slice(892800, 918400, None), slice(893760, 919360, None), slice(894720, 920320, None), slice(895680, 921280, None), slice(896640, 922240, None), slice(897600, 923200, None), slice(898560, 924160, None), slice(899520, 925120, None), slice(900480, 926080, None), slice(901440, 927040, None), slice(902400, 928000, None), slice(903360, 928960, None), slice(904320, 929920, None), slice(905280, 930880, None), slice(906240, 931840, None), slice(907200, 932800, None), slice(908160, 933760, None), slice(909120, 934720, None), slice(910080, 935680, None), slice(911040, 936640, None), slice(912000, 937600, None), slice(912960, 938560, None), slice(913920, 939520, None), slice(914880, 940480, None), slice(915840, 941440, None), slice(916800, 942400, None), slice(917760, 943360, None), slice(918720, 944320, None), slice(919680, 945280, None), slice(920640, 946240, None), slice(921600, 947200, None), slice(922560, 948160, None), slice(923520, 949120, None), slice(924480, 950080, None), slice(925440, 951040, None), slice(926400, 952000, None), slice(927360, 952960, None), slice(928320, 953920, None), slice(929280, 954880, None), slice(930240, 955840, None), slice(931200, 956800, None), slice(932160, 957760, None), slice(933120, 958720, None), slice(934080, 959680, None), slice(935040, 960640, None), slice(936000, 961600, None), slice(936960, 962560, None), slice(937920, 963520, None), slice(938880, 964480, None), slice(939840, 965440, None), slice(940800, 966400, None), slice(941760, 967360, None), slice(942720, 968320, None), slice(943680, 969280, None), slice(944640, 970240, None), slice(945600, 971200, None), slice(946560, 972160, None), slice(947520, 973120, None), slice(948480, 974080, None), slice(949440, 975040, None), slice(950400, 976000, None), slice(951360, 976960, None), slice(952320, 977920, None), slice(953280, 978880, None), slice(954240, 979840, None), slice(955200, 980800, None), slice(956160, 981760, None), slice(957120, 982720, None), slice(958080, 983680, None), slice(959040, 984640, None), slice(960000, 985600, None), slice(960960, 986560, None), slice(961920, 987520, None), slice(962880, 988480, None), slice(963840, 989440, None), slice(964800, 990400, None), slice(965760, 991360, None), slice(966720, 992320, None), slice(967680, 993280, None), slice(968640, 994240, None), slice(969600, 995200, None), slice(970560, 996160, None), slice(971520, 997120, None), slice(972480, 998080, None), slice(973440, 999040, None), slice(974400, 1000000, None), slice(975360, 1000960, None), slice(976320, 1001920, None), slice(977280, 1002880, None), slice(978240, 1003840, None), slice(979200, 1004800, None), slice(980160, 1005760, None), slice(981120, 1006720, None), slice(982080, 1007680, None), slice(983040, 1008640, None), slice(984000, 1009600, None), slice(984960, 1010560, None), slice(985920, 1011520, None), slice(986880, 1012480, None), slice(987840, 1013440, None), slice(988800, 1014400, None), slice(989760, 1015360, None), slice(990720, 1016320, None), slice(991680, 1017280, None), slice(992640, 1018240, None), slice(993600, 1019200, None), slice(994560, 1020160, None), slice(995520, 1021120, None), slice(996480, 1022080, None), slice(997440, 1023040, None), slice(998400, 1024000, None), slice(999360, 1024960, None), slice(1000320, 1025920, None), slice(1001280, 1026880, None), slice(1002240, 1027840, None), slice(1003200, 1028800, None), slice(1004160, 1029760, None), slice(1005120, 1030720, None), slice(1006080, 1031680, None), slice(1007040, 1032640, None), slice(1008000, 1033600, None), slice(1008960, 1034560, None), slice(1009920, 1035520, None), slice(1010880, 1036480, None), slice(1011840, 1037440, None), slice(1012800, 1038400, None), slice(1013760, 1039360, None), slice(1014720, 1040320, None), slice(1015680, 1041280, None), slice(1016640, 1042240, None), slice(1017600, 1043200, None), slice(1018560, 1044160, None), slice(1019520, 1045120, None), slice(1020480, 1046080, None), slice(1021440, 1047040, None), slice(1022400, 1048000, None), slice(1023360, 1048960, None), slice(1024320, 1049920, None), slice(1025280, 1050880, None), slice(1026240, 1051840, None), slice(1027200, 1052800, None), slice(1028160, 1053760, None), slice(1029120, 1054720, None), slice(1030080, 1055680, None), slice(1031040, 1056640, None), slice(1032000, 1057600, None), slice(1032960, 1058560, None), slice(1033920, 1059520, None), slice(1034880, 1060480, None), slice(1035840, 1061440, None), slice(1036800, 1062400, None), slice(1037760, 1063360, None), slice(1038720, 1064320, None), slice(1039680, 1065280, None), slice(1040640, 1066240, None), slice(1041600, 1067200, None), slice(1042560, 1068160, None), slice(1043520, 1069120, None), slice(1044480, 1070080, None), slice(1045440, 1071040, None), slice(1046400, 1072000, None), slice(1047360, 1072960, None), slice(1048320, 1073920, None), slice(1049280, 1074880, None), slice(1050240, 1075840, None), slice(1051200, 1076800, None), slice(1052160, 1077760, None), slice(1053120, 1078720, None), slice(1054080, 1079680, None), slice(1055040, 1080640, None), slice(1056000, 1081600, None), slice(1056960, 1082560, None), slice(1057920, 1083520, None), slice(1058880, 1084480, None), slice(1059840, 1085440, None), slice(1060800, 1086400, None), slice(1061760, 1087360, None), slice(1062720, 1088320, None), slice(1063680, 1089280, None), slice(1064640, 1090240, None), slice(1065600, 1091200, None), slice(1066560, 1092160, None), slice(1067520, 1093120, None), slice(1068480, 1094080, None), slice(1069440, 1095040, None), slice(1070400, 1096000, None), slice(1071360, 1096960, None), slice(1072320, 1097920, None), slice(1073280, 1098880, None), slice(1074240, 1099840, None), slice(1075200, 1100800, None), slice(1076160, 1101760, None), slice(1077120, 1102720, None), slice(1078080, 1103680, None), slice(1079040, 1104640, None), slice(1080000, 1105600, None), slice(1080960, 1106560, None), slice(1081920, 1107520, None), slice(1082880, 1108480, None), slice(1083840, 1109440, None), slice(1084800, 1110400, None), slice(1085760, 1111360, None), slice(1086720, 1112320, None), slice(1087680, 1113280, None), slice(1088640, 1114240, None), slice(1089600, 1115200, None), slice(1090560, 1116160, None), slice(1091520, 1117120, None)]\n"
     ]
    }
   ],
   "source": [
    "import pathlib\n",
    "pathlib.Path().resolve()\n",
    "from resemblyzer import preprocess_wav, VoiceEncoder\n",
    "from pathlib import Path\n",
    "\n",
    "#give the file path to your audio file\n",
    "audio_file_path = '/home/auishik/Documents/multi speaker/10small.wav'\n",
    "wav_fpath = Path(audio_file_path)\n",
    "\n",
    "wav = preprocess_wav(wav_fpath)\n",
    "print(wav)\n",
    "encoder = VoiceEncoder(\"cpu\")\n",
    "_, cont_embeds, wav_splits = encoder.embed_utterance(wav, return_partials=True,rate=16)\n",
    "print(wav_splits)"
   ]
  },
  {
   "cell_type": "code",
   "execution_count": 7,
   "metadata": {
    "colab": {
     "base_uri": "https://localhost:8080/",
     "height": 173
    },
    "id": "0XvNwJ0WEeTT",
    "outputId": "76d8e5be-2f53-4885-c58d-5d6cdb0546b7"
   },
   "outputs": [
    {
     "ename": "NameError",
     "evalue": "name 'autotune' is not defined",
     "output_type": "error",
     "traceback": [
      "\u001b[0;31m---------------------------------------------------------------------------\u001b[0m",
      "\u001b[0;31mNameError\u001b[0m                                 Traceback (most recent call last)",
      "\u001b[0;32m/tmp/ipykernel_29177/4279049454.py\u001b[0m in \u001b[0;36m<module>\u001b[0;34m\u001b[0m\n\u001b[0;32m----> 1\u001b[0;31m \u001b[0mhelp\u001b[0m\u001b[0;34m(\u001b[0m\u001b[0mautotune\u001b[0m\u001b[0;34m)\u001b[0m\u001b[0;34m\u001b[0m\u001b[0;34m\u001b[0m\u001b[0m\n\u001b[0m",
      "\u001b[0;31mNameError\u001b[0m: name 'autotune' is not defined"
     ]
    }
   ],
   "source": [
    "help(autotune)"
   ]
  },
  {
   "cell_type": "code",
   "execution_count": 15,
   "metadata": {
    "colab": {
     "base_uri": "https://localhost:8080/"
    },
    "id": "oQHst5ELEggL",
    "outputId": "858eb229-0b33-4f72-9b10-2a08dcb3fc1d"
   },
   "outputs": [
    {
     "ename": "NameError",
     "evalue": "name 'RefinementOptions' is not defined",
     "output_type": "error",
     "traceback": [
      "\u001b[0;31m---------------------------------------------------------------------------\u001b[0m",
      "\u001b[0;31mNameError\u001b[0m                                 Traceback (most recent call last)",
      "\u001b[0;32m/tmp/ipykernel_29177/2075217323.py\u001b[0m in \u001b[0;36m<module>\u001b[0;34m\u001b[0m\n\u001b[1;32m      8\u001b[0m     search_level=3)\n\u001b[1;32m      9\u001b[0m \u001b[0;34m\u001b[0m\u001b[0m\n\u001b[0;32m---> 10\u001b[0;31m \u001b[0mrefinement_options\u001b[0m \u001b[0;34m=\u001b[0m \u001b[0mRefinementOptions\u001b[0m\u001b[0;34m(\u001b[0m\u001b[0mgaussian_blur_sigma\u001b[0m\u001b[0;34m=\u001b[0m\u001b[0;36m1\u001b[0m\u001b[0;34m,\u001b[0m\u001b[0mp_percentile\u001b[0m\u001b[0;34m=\u001b[0m\u001b[0;36m0.95\u001b[0m\u001b[0;34m,\u001b[0m\u001b[0mthresholding_soft_multiplier\u001b[0m\u001b[0;34m=\u001b[0m\u001b[0;36m0.01\u001b[0m\u001b[0;34m,\u001b[0m \u001b[0mthresholding_type\u001b[0m\u001b[0;34m=\u001b[0m\u001b[0mThresholdType\u001b[0m\u001b[0;34m.\u001b[0m\u001b[0mRowMax\u001b[0m\u001b[0;34m,\u001b[0m   \u001b[0mrefinement_sequence\u001b[0m\u001b[0;34m=\u001b[0m\u001b[0mICASSP2018_REFINEMENT_SEQUENCE\u001b[0m\u001b[0;34m)\u001b[0m\u001b[0;34m\u001b[0m\u001b[0;34m\u001b[0m\u001b[0m\n\u001b[0m\u001b[1;32m     11\u001b[0m \u001b[0mclusterer\u001b[0m \u001b[0;34m=\u001b[0m \u001b[0mSpectralClusterer\u001b[0m\u001b[0;34m(\u001b[0m\u001b[0mmin_clusters\u001b[0m\u001b[0;34m=\u001b[0m\u001b[0;36m2\u001b[0m\u001b[0;34m,\u001b[0m \u001b[0mmax_clusters\u001b[0m\u001b[0;34m=\u001b[0m\u001b[0;36m50\u001b[0m\u001b[0;34m,\u001b[0m\u001b[0mcustom_dist\u001b[0m\u001b[0;34m=\u001b[0m\u001b[0;34m\"cosine\"\u001b[0m\u001b[0;34m)\u001b[0m\u001b[0;34m\u001b[0m\u001b[0;34m\u001b[0m\u001b[0m\n\u001b[1;32m     12\u001b[0m \u001b[0mprint\u001b[0m\u001b[0;34m(\u001b[0m\u001b[0mclusterer\u001b[0m\u001b[0;34m)\u001b[0m\u001b[0;34m\u001b[0m\u001b[0;34m\u001b[0m\u001b[0m\n",
      "\u001b[0;31mNameError\u001b[0m: name 'RefinementOptions' is not defined"
     ]
    }
   ],
   "source": [
    "from spectralcluster import SpectralClusterer\n",
    "from spectralcluster import AutoTune\n",
    "import math\n",
    "autotune = AutoTune(\n",
    "    p_percentile_min=0.60,\n",
    "    p_percentile_max=0.95,\n",
    "    init_search_step=0.01,\n",
    "    search_level=3)\n",
    "\n",
    "#refinement_options = RefinementOptions(gaussian_blur_sigma=1,p_percentile=0.95,thresholding_soft_multiplier=0.01, thresholding_type=ThresholdType.RowMax,   refinement_sequence=ICASSP2018_REFINEMENT_SEQUENCE)\n",
    "clusterer = SpectralClusterer(min_clusters=2, max_clusters=50,custom_dist=\"cosine\")\n",
    "print(clusterer)\n",
    "labels = clusterer.predict(cont_embeds)"
   ]
  },
  {
   "cell_type": "code",
   "execution_count": 13,
   "metadata": {
    "colab": {
     "base_uri": "https://localhost:8080/"
    },
    "id": "A7QuflYjhWaO",
    "outputId": "0d6dc715-d2fb-4f85-bdda-9316bf4e689b"
   },
   "outputs": [
    {
     "name": "stdout",
     "output_type": "stream",
     "text": [
      "[0 0 0 0 0 0 0 0 0 0 0 0 0 0 0 0 0 0 0 0 0 0 0 0 0 0 0 0 0 0 0 0 1 1 1 0 0\n",
      " 0 0 1 1 1 1 1 1 1 1 0 1 1 1 1 1 1 1 1 1 1 0 0 0 0 0 0 0 0 0 0 0 0 0 0 0 0\n",
      " 0 0 0 0 0 0 0 0 0 0 0 0 0 0 0 0 1 1 0 0 0 0 0 0 0 0 0 0 0 0 0 0 0 0 0 0 0\n",
      " 0 0 0 0 0 0 0 0 0 0 0 0 0 0 0 0 0 0 0 0 0 0 0 0 0 0 0 0 0 0 0 0 0 0 0 0 0\n",
      " 0 0 0 0 0 0 0 0 0 0 0 0 0 0 0 0 0 0 0 0 0 0 0 0 0 0 0 0 0 0 0 0 0 0 0 0 0\n",
      " 0 0 0 0 0 0 0 0 0 0 0 0 0 0 0 0 0 0 0 0 0 0 0 0 0 0 0 0 0 0 0 0 0 0 0 0 0\n",
      " 0 0 0 0 0 0 0 0 0 0 0 0 0 0 0 0 0 0 0 0 0 0 0 0 0 0 1 0 0 0 0 0 0 0 0 0 0\n",
      " 0 0 0 0 0 0 0 0 0 0 0 0 0 0 0 0 0 0 0 0 0 0 0 0 0 0 0 0 0 0 0 0 0 0 0 0 0\n",
      " 0 0 0 0 0 0 0 0 0 0 0 0 0 0 0 0 0 0 0 0 0 0 0 0 1 1 0 1 1 1 1 1 1 1 1 1 1\n",
      " 1 1 1 1 1 1 1 1 1 1 1 1 1 1 1 1 1 1 1 1 1 1 1 1 1 1 1 1 1 1 1 1 1 1 1 1 1\n",
      " 1 1 1 1 1 1 1 1 1 1 1 1 1 1 1 1 1 1 1 1 1 1 1 1 1 1 1 1 1 1 1 1 1 1 1 1 1\n",
      " 1 1 1 1 1 1 1 1 1 1 1 1 1 1 1 1 1 1 1 1 1 1 1 1 1 1 1 1 1 1 1 1 1 1 1 1 1\n",
      " 1 1 1 1 1 1 1 1 1 1 1 1 1 1 1 1 1 1 1 1 1 1 1 1 1 1 1 1 1 1 1 1 1 1 1 1 1\n",
      " 1 1 1 1 1 1 1 1 1 1 1 1 1 1 1 1 1 1 1 1 1 1 1 1 1 1 1 1 1 1 1 1 1 1 1 1 1\n",
      " 1 1 1 1 1 1 1 1 1 1 1 1 1 1 1 1 1 1 1 1 1 1 1 1 1 1 1 1 1 1 1 1 1 1 1 1 1\n",
      " 1 1 1 1 1 1 1 1 1 1 1 1 1 1 1 1 1 1 1 1 1 1 1 1 1 1 1 1 1 1 1 1 1 1 1 1 1\n",
      " 1 1 1 1 1 1 1 1 1 1 1 1 1 1 1 1 1 1 1 1 1 1 1 1 1 1 1 1 1 1 1 1 1 1 1 1 1\n",
      " 1 1 1 1 1 1 1 1 1 1 1 1 1 1 1 1 1 1 1 1 1 1 1 1 1 1 1 1 1 1 1 1 1 1 1 1 1\n",
      " 1 1 1 1 1 1 1 1 1 1 1 1 1 1 1 1 1 1 1 1 0 0 0 0 0 0 0 0 0 0 0 0 0 0 0 0 0\n",
      " 0 0 0 0 0 0 0 0 0 0 0 0 0 0 0 0 0 0 0 0 0 0 0 0 0 0 0 0 0 0 0 0 0 0 0 0 0\n",
      " 0 0 0 0 0 0 0 0 0 0 0 0 0 0 0 0 0 0 0 0 0 0 0 0 0 0 0 0 0 0 0 0 0 0 0 0 0\n",
      " 0 0 0 0 0 0 0 0 0 0 0 0 0 0 0 0 0 0 0 0 0 0 0 0 0 0 0 0 0 0 0 0 0 0 0 0 0\n",
      " 0 0 0 0 0 0 0 0 0 0 0 0 0 0 0 0 0 0 0 0 0 0 0 0 0 0 0 0 0 0 0 0 0 0 0 0 0\n",
      " 0 0 0 0 0 0 0 0 0 0 0 0 0 0 0 0 0 0 0 0 0 0 0 0 0 0 0 0 0 0 0 0 0 0 0 0 0\n",
      " 0 0 0 0 0 0 0 0 0 0 0 0 0 0 0 0 0 0 0 0 0 0 0 0 0 0 0 0 0 0 0 0 0 0 0 0 0\n",
      " 0 0 0 0 0 0 0 0 0 0 0 0 0 0 0 0 0 0 0 0 0 0 0 0 0 0 0 0 0 0 0 0 0 0 0 0 0\n",
      " 0 0 0 0 0 0 0 0 0 0 0 0 0 0 0 0 0 0 0 0 0 0 0 0 0 0 0 0 0 0 0 0 0 0 0 0 0\n",
      " 0]\n"
     ]
    }
   ],
   "source": [
    "print(labels[:1000])"
   ]
  },
  {
   "cell_type": "code",
   "execution_count": null,
   "metadata": {
    "id": "cyBib9BKFKKj"
   },
   "outputs": [],
   "source": [
    "def create_labelling(labels,wav_splits):\n",
    "    from resemblyzer import sampling_rate\n",
    "    times = [((s.start + s.stop) / 2) / sampling_rate for s in wav_splits]\n",
    "    labelling = []\n",
    "    start_time = 0\n",
    "\n",
    "    for i,time in enumerate(times):\n",
    "        if i>0 and labels[i]!=labels[i-1]:\n",
    "            temp = [str(labels[i-1]),start_time,time]\n",
    "            labelling.append(tuple(temp))\n",
    "            start_time = time\n",
    "        if i==len(times)-1:\n",
    "            temp = [str(labels[i]),start_time,time]\n",
    "            labelling.append(tuple(temp))\n",
    "\n",
    "    return labelling\n",
    "  \n",
    "labelling = create_labelling(labels,wav_splits)\n"
   ]
  },
  {
   "cell_type": "code",
   "execution_count": null,
   "metadata": {
    "colab": {
     "base_uri": "https://localhost:8080/"
    },
    "id": "XHhY3a2cFXaT",
    "outputId": "b849175c-a1fa-4ab5-ec9f-d44f3fa424bf"
   },
   "outputs": [],
   "source": [
    "print(labelling)\n",
    "type(labelling)"
   ]
  },
  {
   "cell_type": "code",
   "execution_count": null,
   "metadata": {
    "id": "8XuEqMw0PtoW"
   },
   "outputs": [],
   "source": []
  },
  {
   "cell_type": "code",
   "execution_count": null,
   "metadata": {
    "colab": {
     "base_uri": "https://localhost:8080/"
    },
    "id": "BX9KcfrPRUfe",
    "outputId": "fcb098f5-34b7-49b6-c7ce-0a28a8f7152f"
   },
   "outputs": [],
   "source": [
    "#!pip uninstall ffmpeg-python"
   ]
  },
  {
   "cell_type": "code",
   "execution_count": null,
   "metadata": {
    "colab": {
     "base_uri": "https://localhost:8080/"
    },
    "id": "VnUj6zmoKqbn",
    "outputId": "948d435c-80d6-4f6b-da8b-29887b2a348e"
   },
   "outputs": [],
   "source": [
    "import ffmpeg\n",
    "import requests\n",
    "import json\n",
    "url = \"http://dev.revesoft.com:9381\"\n",
    "\n",
    "payload={}\n",
    "\n",
    "\n",
    "\n",
    "for i in range(len(labelling)):\n",
    "  #print(,)\n",
    "  stream = ffmpeg.input('/home/auishik/Documents/audio_checking_experiment/should be dual speaker/5069.wav')\n",
    "  a1 = stream.audio.filter('atrim',labelling[i][1],labelling[i][2])\n",
    "  out=ffmpeg.output(a1, 'out.wav').overwrite_output()\n",
    "  out.run()\n",
    "  #print(type(stream))\n",
    "  files=[('file',('out.wav',open('out.wav','rb'),'audio/wav'))]\n",
    "  headers = {}\n",
    "  #print(url)\n",
    "  response = requests.request(\"POST\", url, headers=headers, data=payload, files=files)\n",
    "  data = response.json()\n",
    "  #print(type(data))\n",
    "  print(\"speaker \"+str(labelling[i][0])+\": \"+data['output'])\n",
    "  #print(\"speaker \"+str(labelling[i][0])+\" start time \"+str(labelling[i][1])+\" end time \"+str(labelling[i][2])+\" text \"+data['output'])\n",
    "\n",
    "#print(response.text)"
   ]
  },
  {
   "cell_type": "code",
   "execution_count": null,
   "metadata": {
    "id": "BH3f9_hPSwJu"
   },
   "outputs": [],
   "source": [
    "ffmpeg ??"
   ]
  },
  {
   "cell_type": "code",
   "execution_count": null,
   "metadata": {
    "colab": {
     "base_uri": "https://localhost:8080/",
     "height": 165
    },
    "id": "S5AdjOVAyit_",
    "outputId": "7016b1da-846e-4b82-ec3c-3925416066cc"
   },
   "outputs": [],
   "source": [
    "print(response.text['LM'])"
   ]
  },
  {
   "cell_type": "markdown",
   "metadata": {
    "id": "l33i17yRwepq"
   },
   "source": []
  },
  {
   "cell_type": "code",
   "execution_count": null,
   "metadata": {
    "colab": {
     "base_uri": "https://localhost:8080/"
    },
    "id": "oCqFXPjabJjV",
    "outputId": "0193b217-1aaa-4abe-c737-17ae1057623c"
   },
   "outputs": [],
   "source": [
    "stream = ffmpeg.input('my_recording.wav')\n",
    "a1 = stream.audio.filter('atrim',0,5)\n",
    "out=ffmpeg.output(a1, 'out.wav')\n",
    "print(type(out))"
   ]
  },
  {
   "cell_type": "code",
   "execution_count": null,
   "metadata": {
    "colab": {
     "base_uri": "https://localhost:8080/",
     "height": 710
    },
    "id": "W1z3h-lnbQAZ",
    "outputId": "83d1c108-175d-4393-fd58-be8937905c99"
   },
   "outputs": [],
   "source": [
    "import requests\n",
    "\n",
    "url = \"http://dev.revesoft.com:9381\"\n",
    "\n",
    "payload={}\n",
    "files=[('file',('my_recording.wav',open('/content/Resemblyzer/my_recording.wav','rb'),'audio/wav'))]\n",
    "headers = {}\n",
    "print(url)\n",
    "response = requests.request(\"POST\", url, headers=headers, data=payload, files=files)\n",
    "\n",
    "print(response.text)"
   ]
  },
  {
   "cell_type": "code",
   "execution_count": null,
   "metadata": {},
   "outputs": [],
   "source": [
    "%lsmagic"
   ]
  }
 ],
 "metadata": {
  "colab": {
   "collapsed_sections": [],
   "name": "speaker_diarization.ipynb",
   "provenance": [],
   "toc_visible": true
  },
  "kernelspec": {
   "display_name": "Python 3 (ipykernel)",
   "language": "python",
   "name": "python3"
  },
  "language_info": {
   "codemirror_mode": {
    "name": "ipython",
    "version": 3
   },
   "file_extension": ".py",
   "mimetype": "text/x-python",
   "name": "python",
   "nbconvert_exporter": "python",
   "pygments_lexer": "ipython3",
   "version": "3.10.4"
  }
 },
 "nbformat": 4,
 "nbformat_minor": 1
}
