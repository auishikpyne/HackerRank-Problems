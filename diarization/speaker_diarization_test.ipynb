{
 "cells": [
  {
   "cell_type": "code",
   "execution_count": 1,
   "id": "b48f7409",
   "metadata": {},
   "outputs": [
    {
     "name": "stdout",
     "output_type": "stream",
     "text": [
      "fatal: destination path 'pyannote-audio' already exists and is not an empty directory.\r\n"
     ]
    }
   ],
   "source": [
    "!git clone https://github.com/pyannote/pyannote-audio"
   ]
  },
  {
   "cell_type": "code",
   "execution_count": null,
   "id": "90033ee0",
   "metadata": {},
   "outputs": [],
   "source": [
    "!pip install -q speechbrain"
   ]
  },
  {
   "cell_type": "code",
   "execution_count": null,
   "id": "1634e5d0",
   "metadata": {},
   "outputs": [],
   "source": [
    "from pyannote.core import notebook, Segment\n",
    "notebook.crop = Segment(0, 30)"
   ]
  },
  {
   "cell_type": "code",
   "execution_count": null,
   "id": "8e05c9f3",
   "metadata": {},
   "outputs": [],
   "source": [
    "# clone pyannote-audio Github repository and update ROOT_DIR accordingly\n",
    "ROOT_DIR = \"/home/auishik/Documents/pyannote-audio\"\n",
    "AUDIO_FILE = f\"{ROOT_DIR}/tutorials/assets/3short.wav\"\n"
   ]
  },
  {
   "cell_type": "code",
   "execution_count": null,
   "id": "b21ad22f",
   "metadata": {},
   "outputs": [],
   "source": [
    "from pyannote.database.util import load_rttm\n",
    "REFERENCE = f\"{ROOT_DIR}/tutorials/assets/sample.rttm\"\n",
    "reference = load_rttm(REFERENCE)[\"sample\"]\n",
    "reference"
   ]
  },
  {
   "cell_type": "code",
   "execution_count": null,
   "id": "5fc6d141",
   "metadata": {},
   "outputs": [],
   "source": []
  },
  {
   "cell_type": "code",
   "execution_count": null,
   "id": "268b1820",
   "metadata": {},
   "outputs": [],
   "source": []
  },
  {
   "cell_type": "code",
   "execution_count": null,
   "id": "2046bdd5",
   "metadata": {},
   "outputs": [],
   "source": []
  }
 ],
 "metadata": {
  "kernelspec": {
   "display_name": "Python 3 (ipykernel)",
   "language": "python",
   "name": "python3"
  },
  "language_info": {
   "codemirror_mode": {
    "name": "ipython",
    "version": 3
   },
   "file_extension": ".py",
   "mimetype": "text/x-python",
   "name": "python",
   "nbconvert_exporter": "python",
   "pygments_lexer": "ipython3",
   "version": "3.10.4"
  }
 },
 "nbformat": 4,
 "nbformat_minor": 5
}
